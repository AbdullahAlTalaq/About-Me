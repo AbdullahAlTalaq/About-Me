{
  "nbformat": 4,
  "nbformat_minor": 0,
  "metadata": {
    "colab": {
      "provenance": [],
      "authorship_tag": "ABX9TyOCfVMLNSWHPRbOkMzARREw",
      "include_colab_link": true
    },
    "kernelspec": {
      "name": "python3",
      "display_name": "Python 3"
    },
    "language_info": {
      "name": "python"
    }
  },
  "cells": [
    {
      "cell_type": "markdown",
      "metadata": {
        "id": "view-in-github",
        "colab_type": "text"
      },
      "source": [
        "<a href=\"https://colab.research.google.com/github/AbdullahAlTalaq/About-Me/blob/main/N_Gram_Model.ipynb\" target=\"_parent\"><img src=\"https://colab.research.google.com/assets/colab-badge.svg\" alt=\"Open In Colab\"/></a>"
      ]
    },
    {
      "cell_type": "markdown",
      "source": [
        "#Abudllah Al Al Talaq\n",
        "#2200001965\n",
        "#LAB2"
      ],
      "metadata": {
        "id": "YPW6DqcGnwrH"
      }
    },
    {
      "cell_type": "code",
      "execution_count": null,
      "metadata": {
        "colab": {
          "base_uri": "https://localhost:8080/"
        },
        "id": "DOAMBGxVr-Q4",
        "outputId": "b8f53666-1844-4e72-955c-86a249436c49"
      },
      "outputs": [
        {
          "output_type": "stream",
          "name": "stdout",
          "text": [
            "Requirement already satisfied: nltk in /usr/local/lib/python3.10/dist-packages (3.8.1)\n",
            "Requirement already satisfied: click in /usr/local/lib/python3.10/dist-packages (from nltk) (8.1.7)\n",
            "Requirement already satisfied: joblib in /usr/local/lib/python3.10/dist-packages (from nltk) (1.3.2)\n",
            "Requirement already satisfied: regex>=2021.8.3 in /usr/local/lib/python3.10/dist-packages (from nltk) (2023.6.3)\n",
            "Requirement already satisfied: tqdm in /usr/local/lib/python3.10/dist-packages (from nltk) (4.66.1)\n"
          ]
        }
      ],
      "source": [
        "!pip install nltk"
      ]
    },
    {
      "cell_type": "code",
      "source": [
        "import nltk\n",
        "nltk.download('reuters')"
      ],
      "metadata": {
        "colab": {
          "base_uri": "https://localhost:8080/"
        },
        "id": "maCuRfQHsEd7",
        "outputId": "210da887-433a-49d5-f0d3-bfabbe9b3bbe"
      },
      "execution_count": null,
      "outputs": [
        {
          "output_type": "stream",
          "name": "stderr",
          "text": [
            "[nltk_data] Downloading package reuters to /root/nltk_data...\n"
          ]
        },
        {
          "output_type": "execute_result",
          "data": {
            "text/plain": [
              "True"
            ]
          },
          "metadata": {},
          "execution_count": 5
        }
      ]
    },
    {
      "cell_type": "code",
      "source": [
        "from nltk.corpus import reuters"
      ],
      "metadata": {
        "id": "aMlBgbH2sP1L"
      },
      "execution_count": null,
      "outputs": []
    },
    {
      "cell_type": "code",
      "source": [
        "from nltk import trigrams\n",
        "from collections import Counter, defaultdict\n",
        "\n",
        "model = defaultdict(lambda: defaultdict(lambda: 0))\n",
        "\n",
        "for sentence in reuters.sents():\n",
        "  for w1, w2, w3 in trigrams(sentence, pad_right=True, pad_left=True):\n",
        "       model[(w1, w2)][w3] += 1\n"
      ],
      "metadata": {
        "id": "s2fjaaVdtGFy"
      },
      "execution_count": null,
      "outputs": []
    },
    {
      "cell_type": "code",
      "source": [
        "nltk.download('punkt')"
      ],
      "metadata": {
        "colab": {
          "base_uri": "https://localhost:8080/"
        },
        "id": "qhmFyruTte5m",
        "outputId": "65b2bdd9-04fd-4101-f334-e610ebdd68ac"
      },
      "execution_count": null,
      "outputs": [
        {
          "output_type": "stream",
          "name": "stderr",
          "text": [
            "[nltk_data] Downloading package punkt to /root/nltk_data...\n",
            "[nltk_data]   Unzipping tokenizers/punkt.zip.\n"
          ]
        },
        {
          "output_type": "execute_result",
          "data": {
            "text/plain": [
              "True"
            ]
          },
          "metadata": {},
          "execution_count": 7
        }
      ]
    },
    {
      "cell_type": "code",
      "source": [
        "for w1_w2 in model:\n",
        "   total_count = float(sum(model[w1_w2].values()))\n",
        "   for w3 in model[w1_w2]:\n",
        "         model[w1_w2][w3] /= total_count"
      ],
      "metadata": {
        "id": "CIrygiCLti0u"
      },
      "execution_count": null,
      "outputs": []
    },
    {
      "cell_type": "code",
      "source": [
        "import random\n",
        "text = [\"today\", \"the\"]\n",
        "sentence_finished = False\n",
        "\n",
        "while not sentence_finished:\n",
        "    r = random.random()\n",
        "    accumulator = 0\n",
        "    next_word_candidates = model.get(tuple(text[-2:]), {})\n",
        "\n",
        "    for word, probability in next_word_candidates.items():\n",
        "        accumulator += probability\n",
        "        if accumulator >= r:\n",
        "            text.append(word)\n",
        "            break\n",
        "\n",
        "    if text[-2:] == [None, None]:\n",
        "        sentence_finished = True\n",
        "\n",
        "print(' '.join([t for t in text if t]))\n"
      ],
      "metadata": {
        "colab": {
          "base_uri": "https://localhost:8080/"
        },
        "id": "oHTjpEYhtrN9",
        "outputId": "e51bcbe6-732e-4f14-9538-60fcb67f31fc"
      },
      "execution_count": null,
      "outputs": [
        {
          "output_type": "stream",
          "name": "stdout",
          "text": [
            "today the newspaper interview he is not expected to decline five to 8 , 545 , 000 dlrs or four months were 574 . 2 mln dlrs from 750 mln dlrs and 666 , 313 , 000 for qtr and yr net includes gain on the field trip long truck lines were noted at grain terminals , PRI said .\n"
          ]
        }
      ]
    },
    {
      "cell_type": "markdown",
      "source": [
        "Task#1: Take the above code and modify it to bigram model\n"
      ],
      "metadata": {
        "id": "uW-d4aI0wWXU"
      }
    },
    {
      "cell_type": "code",
      "source": [
        "from nltk import bigrams\n",
        "\n",
        "words = reuters.words()\n",
        "\n",
        "Bigrams = list(bigrams(words))\n",
        "\n",
        "model = {}\n",
        "\n",
        "for bigram in Bigrams:\n",
        "  preceding_word, next_word = bigram\n",
        "  if preceding_word in model:\n",
        "        model[preceding_word].append(next_word)\n",
        "  else:\n",
        "        model[preceding_word] = [next_word]\n",
        "\n",
        "text=[\"today\",\"the\"]\n",
        "max_length = 100\n",
        "while len(text) < max_length:\n",
        "    r = random.random()\n",
        "    accumulator=0\n",
        "    #This part is from chatgpt\n",
        "    if text[-1] in model:\n",
        "        next_word_candidates = model[text[-1]]\n",
        "        for word in next_word_candidates:\n",
        "            accumulator += 1 / len(next_word_candidates)\n",
        "            if accumulator >= r:\n",
        "                text.append(word)\n",
        "                break\n",
        "    else:\n",
        "        sentence_finished = True\n",
        "     #End of chatgpt code\n",
        "\n",
        "generated_text = ' '.join([t for t in text if t])\n",
        "print(generated_text)"
      ],
      "metadata": {
        "colab": {
          "base_uri": "https://localhost:8080/"
        },
        "id": "0AWPy6pJuk9r",
        "outputId": "8a93d33d-6680-4592-efa5-cc0dd7815848"
      },
      "execution_count": null,
      "outputs": [
        {
          "output_type": "stream",
          "name": "stdout",
          "text": [
            "today the Gulf policy of the deflationary impact on other countries which would do - term , which has not put and Santow Inc , 000 vs 98 . 9 pct value to cut sharply as 25 to know why Canada showed that price reviews from Lago Agrio to wait till outstanding debts in Tokyo traders 2 . 7 - Warner Corp , 966 , who will draw up from the transaction on revenues . 4 , while imports of feedgrains program for the latest Uruguay Round of Congress is a year ended Jan 31 . TMOC ' s &\n"
          ]
        }
      ]
    }
  ]
}