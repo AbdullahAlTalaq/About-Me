{
  "nbformat": 4,
  "nbformat_minor": 0,
  "metadata": {
    "colab": {
      "provenance": [],
      "authorship_tag": "ABX9TyN04g979WUPSvG1a1623S6B",
      "include_colab_link": true
    },
    "kernelspec": {
      "name": "python3",
      "display_name": "Python 3"
    },
    "language_info": {
      "name": "python"
    }
  },
  "cells": [
    {
      "cell_type": "markdown",
      "metadata": {
        "id": "view-in-github",
        "colab_type": "text"
      },
      "source": [
        "<a href=\"https://colab.research.google.com/github/AbdullahAlTalaq/About-Me/blob/main/Pancriatc.ipynb\" target=\"_parent\"><img src=\"https://colab.research.google.com/assets/colab-badge.svg\" alt=\"Open In Colab\"/></a>"
      ]
    },
    {
      "cell_type": "code",
      "execution_count": null,
      "metadata": {
        "id": "SC_5myZ4wzuz"
      },
      "outputs": [],
      "source": [
        "import pandas as pd\n",
        "import numpy as np\n",
        "import matplotlib.pyplot as plt\n",
        "from sklearn.preprocessing import OneHotEncoder\n",
        "\n",
        "df = pd.read_csv('/content/Pancreatic Cancer (cleaned).csv')"
      ]
    },
    {
      "cell_type": "code",
      "source": [
        "df.info()"
      ],
      "metadata": {
        "colab": {
          "base_uri": "https://localhost:8080/"
        },
        "id": "Oig_BMSk0YHx",
        "outputId": "8f92d507-a6f9-4c39-99de-0619cc61a137"
      },
      "execution_count": null,
      "outputs": [
        {
          "output_type": "stream",
          "name": "stdout",
          "text": [
            "<class 'pandas.core.frame.DataFrame'>\n",
            "RangeIndex: 590 entries, 0 to 589\n",
            "Data columns (total 14 columns):\n",
            " #   Column                   Non-Null Count  Dtype  \n",
            "---  ------                   --------------  -----  \n",
            " 0   sample_id                590 non-null    object \n",
            " 1   patient_cohort           590 non-null    object \n",
            " 2   sample_origin            590 non-null    object \n",
            " 3   age                      590 non-null    int64  \n",
            " 4   sex                      590 non-null    object \n",
            " 5   diagnosis                590 non-null    int64  \n",
            " 6   stage                    590 non-null    object \n",
            " 7   benign_sample_diagnosis  590 non-null    object \n",
            " 8   plasma_CA19_9            590 non-null    float64\n",
            " 9   creatinine               590 non-null    float64\n",
            " 10  LYVE1                    590 non-null    float64\n",
            " 11  REG1B                    590 non-null    float64\n",
            " 12  TFF1                     590 non-null    float64\n",
            " 13  REG1A                    590 non-null    float64\n",
            "dtypes: float64(6), int64(2), object(6)\n",
            "memory usage: 64.7+ KB\n"
          ]
        }
      ]
    },
    {
      "cell_type": "code",
      "source": [
        "df = df.drop('sample_id', axis=1)"
      ],
      "metadata": {
        "id": "-_4N1LHg1Y5R"
      },
      "execution_count": null,
      "outputs": []
    },
    {
      "cell_type": "markdown",
      "source": [
        "#making onehotencooding to object dtype\n",
        "first extract the categorical columns from the feature set (X_categorical).\n",
        "then use the OneHotEncoder to perform one-hot encoding, setting drop='first' to avoid the dummy variable trap and sparse=False to get a dense array.\n",
        "The resulting encoded features are stored in a new DataFrame (X_encoded)."
      ],
      "metadata": {
        "id": "c9cm58Bs18Un"
      }
    },
    {
      "cell_type": "code",
      "source": [
        "X = df.drop('diagnosis', axis=1)\n",
        "y = df['diagnosis']"
      ],
      "metadata": {
        "id": "tHDQzjj02JIb"
      },
      "execution_count": null,
      "outputs": []
    },
    {
      "cell_type": "code",
      "source": [
        "#making onehotencooding to object dtype\n",
        "categorical_cols = ['patient_cohort', 'sample_origin', 'sex', 'stage', 'benign_sample_diagnosis']"
      ],
      "metadata": {
        "id": "DD32AV3y1owg"
      },
      "execution_count": null,
      "outputs": []
    },
    {
      "cell_type": "code",
      "source": [
        "X_categorical = X[categorical_cols]\n"
      ],
      "metadata": {
        "id": "2T7WvcT42--g"
      },
      "execution_count": null,
      "outputs": []
    },
    {
      "cell_type": "code",
      "source": [
        "X_encoded = pd.get_dummies(X,columns=categorical_cols,drop_first=True)"
      ],
      "metadata": {
        "id": "usW_Zgc71-oC"
      },
      "execution_count": null,
      "outputs": []
    },
    {
      "cell_type": "code",
      "source": [
        "encoder = OneHotEncoder(drop='first', sparse=False)"
      ],
      "metadata": {
        "id": "YP70VdoB22US"
      },
      "execution_count": null,
      "outputs": []
    },
    {
      "cell_type": "code",
      "source": [
        "X_encoded = pd.DataFrame(encoder.fit_transform(X_categorical), columns=encoder.get_feature_names_out(categorical_cols))"
      ],
      "metadata": {
        "colab": {
          "base_uri": "https://localhost:8080/"
        },
        "id": "6Ztg26GA27CU",
        "outputId": "6520112b-fa11-43c8-dfb5-adc38d379540"
      },
      "execution_count": null,
      "outputs": [
        {
          "output_type": "stream",
          "name": "stderr",
          "text": [
            "/usr/local/lib/python3.10/dist-packages/sklearn/preprocessing/_encoders.py:868: FutureWarning: `sparse` was renamed to `sparse_output` in version 1.2 and will be removed in 1.4. `sparse_output` is ignored unless you leave `sparse` to its default value.\n",
            "  warnings.warn(\n"
          ]
        }
      ]
    },
    {
      "cell_type": "code",
      "source": [
        "X_encoded.info()"
      ],
      "metadata": {
        "colab": {
          "base_uri": "https://localhost:8080/"
        },
        "id": "mHqtf5n62SLk",
        "outputId": "002d7f3a-d117-4e99-9241-4a6b4488c44c"
      },
      "execution_count": null,
      "outputs": [
        {
          "output_type": "stream",
          "name": "stdout",
          "text": [
            "<class 'pandas.core.frame.DataFrame'>\n",
            "RangeIndex: 590 entries, 0 to 589\n",
            "Data columns (total 73 columns):\n",
            " #   Column                                                                                Non-Null Count  Dtype  \n",
            "---  ------                                                                                --------------  -----  \n",
            " 0   patient_cohort_Cohort2                                                                590 non-null    float64\n",
            " 1   sample_origin_ESP                                                                     590 non-null    float64\n",
            " 2   sample_origin_LIV                                                                     590 non-null    float64\n",
            " 3   sample_origin_UCL                                                                     590 non-null    float64\n",
            " 4   sex_M                                                                                 590 non-null    float64\n",
            " 5   stage_IB                                                                              590 non-null    float64\n",
            " 6   stage_II                                                                              590 non-null    float64\n",
            " 7   stage_IIA                                                                             590 non-null    float64\n",
            " 8   stage_IIB                                                                             590 non-null    float64\n",
            " 9   stage_III                                                                             590 non-null    float64\n",
            " 10  stage_IV                                                                              590 non-null    float64\n",
            " 11  benign_sample_diagnosis_Abdominal Pain                                                590 non-null    float64\n",
            " 12  benign_sample_diagnosis_Biliary Stricture (Secondary to Stent)                        590 non-null    float64\n",
            " 13  benign_sample_diagnosis_Biliary Stricture (Secondary to Stent)                        590 non-null    float64\n",
            " 14  benign_sample_diagnosis_Cholecystitis                                                 590 non-null    float64\n",
            " 15  benign_sample_diagnosis_Cholecystitis                                                 590 non-null    float64\n",
            " 16  benign_sample_diagnosis_Cholecystitis (Chronic)                                       590 non-null    float64\n",
            " 17  benign_sample_diagnosis_Cholecystitis (Chronic)                                       590 non-null    float64\n",
            " 18  benign_sample_diagnosis_Cholecystitis (Chronic) Cholelithiasis                        590 non-null    float64\n",
            " 19  benign_sample_diagnosis_Cholecystitis (Chronic) Cholesterolsis                        590 non-null    float64\n",
            " 20  benign_sample_diagnosis_Choledochal Cyst                                              590 non-null    float64\n",
            " 21  benign_sample_diagnosis_Choledochal Cyst                                              590 non-null    float64\n",
            " 22  benign_sample_diagnosis_Choledocholiathiasis                                          590 non-null    float64\n",
            " 23  benign_sample_diagnosis_Choledocholiathiasis                                          590 non-null    float64\n",
            " 24  benign_sample_diagnosis_Cholelithiasis with adenomyomatous hyperplasia                590 non-null    float64\n",
            " 25  benign_sample_diagnosis_Duodenal Stricture                                            590 non-null    float64\n",
            " 26  benign_sample_diagnosis_Duodenitis                                                    590 non-null    float64\n",
            " 27  benign_sample_diagnosis_Gallbladder Porcelain                                         590 non-null    float64\n",
            " 28  benign_sample_diagnosis_Gallbladder polyps                                            590 non-null    float64\n",
            " 29  benign_sample_diagnosis_Gallbladder polyps                                            590 non-null    float64\n",
            " 30  benign_sample_diagnosis_Gallstones                                                    590 non-null    float64\n",
            " 31  benign_sample_diagnosis_Gallstones                                                    590 non-null    float64\n",
            " 32  benign_sample_diagnosis_Gallstones - Incidental                                       590 non-null    float64\n",
            " 33  benign_sample_diagnosis_Gallstones - Incidental                                       590 non-null    float64\n",
            " 34  benign_sample_diagnosis_Gastritis                                                     590 non-null    float64\n",
            " 35  benign_sample_diagnosis_Gastritis                                                     590 non-null    float64\n",
            " 36  benign_sample_diagnosis_Gastritis and Reflux                                          590 non-null    float64\n",
            " 37  benign_sample_diagnosis_Ill defined lesion in uncinate process                        590 non-null    float64\n",
            " 38  benign_sample_diagnosis_Ischaemic Common Bile Duct Stricture                          590 non-null    float64\n",
            " 39  benign_sample_diagnosis_Pancreatitis                                                  590 non-null    float64\n",
            " 40  benign_sample_diagnosis_Pancreatitis                                                  590 non-null    float64\n",
            " 41  benign_sample_diagnosis_Pancreatitis (Abscess)                                        590 non-null    float64\n",
            " 42  benign_sample_diagnosis_Pancreatitis (Acute)                                          590 non-null    float64\n",
            " 43  benign_sample_diagnosis_Pancreatitis (Alcohol)                                        590 non-null    float64\n",
            " 44  benign_sample_diagnosis_Pancreatitis (Alcohol-Chronic)                                590 non-null    float64\n",
            " 45  benign_sample_diagnosis_Pancreatitis (Alcohol-Chronic-Pseuodcyst)                     590 non-null    float64\n",
            " 46  benign_sample_diagnosis_Pancreatitis (Autoimmune)                                     590 non-null    float64\n",
            " 47  benign_sample_diagnosis_Pancreatitis (Autoimmune)                                     590 non-null    float64\n",
            " 48  benign_sample_diagnosis_Pancreatitis (Chronic)                                        590 non-null    float64\n",
            " 49  benign_sample_diagnosis_Pancreatitis (Chronic)                                        590 non-null    float64\n",
            " 50  benign_sample_diagnosis_Pancreatitis (Chronic) (Later became PDAC)                    590 non-null    float64\n",
            " 51  benign_sample_diagnosis_Pancreatitis (Chronic) Choledocholithiasis                    590 non-null    float64\n",
            " 52  benign_sample_diagnosis_Pancreatitis (Chronic-Pseudocyst)                             590 non-null    float64\n",
            " 53  benign_sample_diagnosis_Pancreatitis (Chronic-Pseudocyst)                             590 non-null    float64\n",
            " 54  benign_sample_diagnosis_Pancreatitis (Gallstone)                                      590 non-null    float64\n",
            " 55  benign_sample_diagnosis_Pancreatitis (Gallstone)                                      590 non-null    float64\n",
            " 56  benign_sample_diagnosis_Pancreatitis (Gallstone-Alcohol-Pseudocyst)                   590 non-null    float64\n",
            " 57  benign_sample_diagnosis_Pancreatitis (Gallstone-Pseudocyst)                           590 non-null    float64\n",
            " 58  benign_sample_diagnosis_Pancreatitis (Hereditary-Chronic)                             590 non-null    float64\n",
            " 59  benign_sample_diagnosis_Pancreatitis (Hypertriglyceridemia)                           590 non-null    float64\n",
            " 60  benign_sample_diagnosis_Pancreatitis (Idiopathic)                                     590 non-null    float64\n",
            " 61  benign_sample_diagnosis_Pancreatitis (Idiopathic)                                     590 non-null    float64\n",
            " 62  benign_sample_diagnosis_Pancreatitis (Pseudocyst)                                     590 non-null    float64\n",
            " 63  benign_sample_diagnosis_Pancreato-jejunostomy Anastomoses Stricture                   590 non-null    float64\n",
            " 64  benign_sample_diagnosis_Premalignant lesions-Adenoma-NOS                              590 non-null    float64\n",
            " 65  benign_sample_diagnosis_Premalignant lesions-Mucinous cystadenocarcinoma-noninvasive  590 non-null    float64\n",
            " 66  benign_sample_diagnosis_Premalignant lesions-Mucinous cystadenoma-NOS                 590 non-null    float64\n",
            " 67  benign_sample_diagnosis_Premalignant lesions-Tubular adenoma-NOS                      590 non-null    float64\n",
            " 68  benign_sample_diagnosis_Premalignant lesions-Tubulovillous adenoma-NOS                590 non-null    float64\n",
            " 69  benign_sample_diagnosis_Premalignant lesions-Villous adenoma-NOS                      590 non-null    float64\n",
            " 70  benign_sample_diagnosis_Serous cystadenoma - NOS                                      590 non-null    float64\n",
            " 71  benign_sample_diagnosis_Serous microcystic adenoma                                    590 non-null    float64\n",
            " 72  benign_sample_diagnosis_Simple benign liver cyst                                      590 non-null    float64\n",
            "dtypes: float64(73)\n",
            "memory usage: 336.6 KB\n"
          ]
        }
      ]
    },
    {
      "cell_type": "code",
      "source": [],
      "metadata": {
        "id": "UrbQ76Pi2Z5I"
      },
      "execution_count": null,
      "outputs": []
    },
    {
      "cell_type": "markdown",
      "source": [
        "SVMSMOTH"
      ],
      "metadata": {
        "id": "LDXO1zVL31mn"
      }
    },
    {
      "cell_type": "code",
      "source": [
        "from imblearn.over_sampling import SVMSMOTE\n"
      ],
      "metadata": {
        "id": "LIWRVBqM2nnV"
      },
      "execution_count": null,
      "outputs": []
    },
    {
      "cell_type": "code",
      "source": [
        "svm_smote = SVMSMOTE(sampling_strategy='auto', random_state=42)\n",
        "X_resampled, y_resampled = svm_smote.fit_resample(X_encoded, y)"
      ],
      "metadata": {
        "id": "avega4UP3Z7b"
      },
      "execution_count": null,
      "outputs": []
    },
    {
      "cell_type": "markdown",
      "source": [
        "RandomForest"
      ],
      "metadata": {
        "id": "r-336fJ834KI"
      }
    },
    {
      "cell_type": "code",
      "source": [
        "from sklearn.model_selection import train_test_split\n",
        "from sklearn.ensemble import RandomForestClassifier, ExtraTreesClassifier\n",
        "from sklearn.metrics import accuracy_score, classification_report\n",
        "\n",
        "\n",
        "X_train, X_test, y_train, y_test = train_test_split(X_resampled, y_resampled, test_size=0.2, random_state=42)\n",
        "\n",
        "rf_classifier = RandomForestClassifier(random_state=42)\n",
        "rf_classifier.fit(X_train, y_train)\n",
        "\n",
        "y_pred_rf = rf_classifier.predict(X_test)\n",
        "accuracy_rf = accuracy_score(y_test, y_pred_rf)\n",
        "print(\"Random Forest Accuracy:\", accuracy_rf)\n",
        "print(\"Classification Report for Random Forest:\")\n",
        "print(classification_report(y_test, y_pred_rf))"
      ],
      "metadata": {
        "colab": {
          "base_uri": "https://localhost:8080/"
        },
        "id": "tGnSTe8d3a-a",
        "outputId": "8b89452a-a3e6-4a69-ba47-8f332ea3d488"
      },
      "execution_count": null,
      "outputs": [
        {
          "output_type": "stream",
          "name": "stdout",
          "text": [
            "Random Forest Accuracy: 0.704\n",
            "Classification Report for Random Forest:\n",
            "              precision    recall  f1-score   support\n",
            "\n",
            "           1       0.69      0.84      0.76        43\n",
            "           2       0.74      0.58      0.65        50\n",
            "           3       0.68      0.72      0.70        32\n",
            "\n",
            "    accuracy                           0.70       125\n",
            "   macro avg       0.70      0.71      0.70       125\n",
            "weighted avg       0.71      0.70      0.70       125\n",
            "\n"
          ]
        }
      ]
    },
    {
      "cell_type": "code",
      "source": [
        "et_classifier = ExtraTreesClassifier(random_state=42)\n",
        "et_classifier.fit(X_train, y_train)\n",
        "\n",
        "y_pred_et = et_classifier.predict(X_test)\n",
        "accuracy_et = accuracy_score(y_test, y_pred_et)\n",
        "print(\"\\nExtra Trees Classifier Accuracy:\", accuracy_et)\n",
        "print(\"Classification Report for Extra Trees:\")\n",
        "print(classification_report(y_test, y_pred_et))"
      ],
      "metadata": {
        "colab": {
          "base_uri": "https://localhost:8080/"
        },
        "id": "WlEviFje4Jgh",
        "outputId": "c3b3544f-c2fb-4c1e-ea81-6175e29cddbf"
      },
      "execution_count": null,
      "outputs": [
        {
          "output_type": "stream",
          "name": "stdout",
          "text": [
            "\n",
            "Extra Trees Classifier Accuracy: 0.736\n",
            "Classification Report for Extra Trees:\n",
            "              precision    recall  f1-score   support\n",
            "\n",
            "           1       0.69      0.88      0.78        43\n",
            "           2       0.79      0.62      0.70        50\n",
            "           3       0.74      0.72      0.73        32\n",
            "\n",
            "    accuracy                           0.74       125\n",
            "   macro avg       0.74      0.74      0.73       125\n",
            "weighted avg       0.75      0.74      0.73       125\n",
            "\n"
          ]
        }
      ]
    },
    {
      "cell_type": "code",
      "source": [
        "unique_values =df['benign_sample_diagnosis'].unique()\n",
        "\n",
        "for i in unique_values:\n",
        "  print(i)"
      ],
      "metadata": {
        "colab": {
          "base_uri": "https://localhost:8080/"
        },
        "id": "5uXRh6k85NEq",
        "outputId": "2864e3e5-92f9-4af5-aca0-deb05b346ab4"
      },
      "execution_count": null,
      "outputs": [
        {
          "output_type": "stream",
          "name": "stdout",
          "text": [
            "Pancreatitis\n",
            "Pancreatitis (Pseudocyst)\n",
            "Serous cystadenoma - NOS\n",
            "Gallstones\n",
            "Pancreatitis (Alcohol-Chronic-Pseuodcyst)\n",
            "Ill defined lesion in uncinate process\n",
            "Pancreatitis (Chronic)\n",
            "Pancreatitis (Abscess)\n",
            "Cholecystitis (Chronic) Cholelithiasis\n",
            "Cholecystitis\n",
            "Premalignant lesions-Mucinous cystadenoma-NOS\n",
            "Choledochal Cyst\n",
            "Abdominal Pain\n",
            "Cholecystitis (Chronic)\n",
            "Pancreatitis (Alcohol-Chronic)\n",
            "Premalignant lesions-Mucinous cystadenocarcinoma-noninvasive\n",
            "Pancreatitis (Gallstone)\n",
            "Pancreato-jejunostomy Anastomoses Stricture\n",
            "Pancreatitis (Idiopathic)\n",
            "Gallstones - Incidental\n",
            "Pancreatitis (Hypertriglyceridemia)\n",
            "Choledocholiathiasis\n",
            "Premalignant lesions-Adenoma-NOS\n",
            "Pancreatitis (Chronic-Pseudocyst)\n",
            "Ischaemic Common Bile Duct Stricture\n",
            "Premalignant lesions-Villous adenoma-NOS\n",
            "Biliary Stricture (Secondary to Stent)\n",
            "Pancreatitis (Autoimmune)\n",
            "Pancreatitis (Chronic) (Later became PDAC)\n",
            "Pancreatitis (Alcohol)\n",
            "Premalignant lesions-Tubular adenoma-NOS\n",
            "Pancreatitis (Acute)\n",
            "Serous microcystic adenoma\n",
            "Duodenitis\n",
            "Abdominal Pain \n",
            "Biliary Stricture (Secondary to Stent) \n",
            "Cholecystitis \n",
            "Cholecystitis (Chronic) \n",
            "Cholecystitis (Chronic) Cholesterolsis\n",
            "Choledochal Cyst \n",
            "Choledocholiathiasis \n",
            "Cholelithiasis with adenomyomatous hyperplasia \n",
            "Duodenal Stricture\n",
            "Gallbladder polyps \n",
            "Gallbladder Porcelain\n",
            "Gallstones \n",
            "Gallstones - Incidental \n",
            "Gastritis \n",
            "Gastritis and Reflux \n",
            "Pancreatitis \n",
            "Pancreatitis (Autoimmune) \n",
            "Pancreatitis (Chronic-Pseudocyst) \n",
            "Pancreatitis (Chronic) \n",
            "Pancreatitis (Chronic) Choledocholithiasis\n",
            "Pancreatitis (Gallstone-Alcohol-Pseudocyst)\n",
            "Pancreatitis (Gallstone-Pseudocyst)\n",
            "Pancreatitis (Gallstone) \n",
            "Pancreatitis (Hereditary-Chronic) \n",
            "Pancreatitis (Idiopathic) \n",
            "Premalignant lesions-Tubulovillous adenoma-NOS\n",
            "Simple benign liver cyst\n",
            "Gallbladder polyps\n",
            "Gastritis\n"
          ]
        }
      ]
    },
    {
      "cell_type": "code",
      "source": [
        "# Convert 'benign_sample_diagnosis' column to a categorical and then use factorize\n",
        "df['benign_sample_diagnosis'] = pd.factorize(df['benign_sample_diagnosis'])[0].astype(float)\n"
      ],
      "metadata": {
        "id": "MmDozNMg_odL"
      },
      "execution_count": null,
      "outputs": []
    },
    {
      "cell_type": "code",
      "source": [
        "df.info()"
      ],
      "metadata": {
        "colab": {
          "base_uri": "https://localhost:8080/"
        },
        "id": "oJdJszyQ_sLR",
        "outputId": "5d371eb6-576d-4093-a883-d762605da0b7"
      },
      "execution_count": null,
      "outputs": [
        {
          "output_type": "stream",
          "name": "stdout",
          "text": [
            "<class 'pandas.core.frame.DataFrame'>\n",
            "RangeIndex: 590 entries, 0 to 589\n",
            "Data columns (total 11 columns):\n",
            " #   Column                   Non-Null Count  Dtype  \n",
            "---  ------                   --------------  -----  \n",
            " 0   age                      590 non-null    float64\n",
            " 1   sex                      590 non-null    float64\n",
            " 2   diagnosis                590 non-null    float64\n",
            " 3   stage                    590 non-null    float64\n",
            " 4   benign_sample_diagnosis  590 non-null    float64\n",
            " 5   plasma_CA19_9            590 non-null    float64\n",
            " 6   creatinine               590 non-null    float64\n",
            " 7   LYVE1                    590 non-null    float64\n",
            " 8   REG1B                    590 non-null    float64\n",
            " 9   TFF1                     590 non-null    float64\n",
            " 10  REG1A                    590 non-null    float64\n",
            "dtypes: float64(11)\n",
            "memory usage: 50.8 KB\n"
          ]
        }
      ]
    },
    {
      "cell_type": "code",
      "source": [
        "df = df.drop('sample_id', axis=1)"
      ],
      "metadata": {
        "id": "jEuoZAjX_vBM"
      },
      "execution_count": null,
      "outputs": []
    },
    {
      "cell_type": "code",
      "source": [
        "df['sex'] = pd.factorize(df['sex'])[0].astype(float)\n"
      ],
      "metadata": {
        "id": "820YzYxb_4tA"
      },
      "execution_count": null,
      "outputs": []
    },
    {
      "cell_type": "code",
      "source": [
        "df['diagnosis'].unique()"
      ],
      "metadata": {
        "colab": {
          "base_uri": "https://localhost:8080/"
        },
        "id": "UI-W7pU5AOw5",
        "outputId": "f63336e5-0912-4521-9ec8-2a72463fd0b1"
      },
      "execution_count": null,
      "outputs": [
        {
          "output_type": "execute_result",
          "data": {
            "text/plain": [
              "array([1, 2, 3])"
            ]
          },
          "metadata": {},
          "execution_count": 18
        }
      ]
    },
    {
      "cell_type": "code",
      "source": [
        "df = df.drop(['sample_origin', 'patient_cohort'], axis=1)"
      ],
      "metadata": {
        "id": "aVXy0C38AVnC"
      },
      "execution_count": null,
      "outputs": []
    },
    {
      "cell_type": "code",
      "source": [
        "df['stage'] = pd.factorize(df['stage'])[0].astype(float)"
      ],
      "metadata": {
        "id": "HSgLnVO3CQtN"
      },
      "execution_count": null,
      "outputs": []
    },
    {
      "cell_type": "code",
      "source": [
        "df['age'] = df['age'].astype(float)\n",
        "df['diagnosis'] = df['diagnosis'].astype(float)"
      ],
      "metadata": {
        "id": "uFrdvXKJCctq"
      },
      "execution_count": null,
      "outputs": []
    },
    {
      "cell_type": "code",
      "source": [
        "import seaborn as sns\n",
        "import matplotlib.pyplot as plt\n",
        "correlation_matrix = df.corr()\n",
        "\n",
        "plt.figure(figsize=(12, 10))\n",
        "sns.heatmap(correlation_matrix, annot=True, cmap='coolwarm', fmt=\".2f\", linewidths=0.5)\n",
        "plt.title(\"Correlation Heatmap\")\n",
        "plt.show()"
      ],
      "metadata": {
        "colab": {
          "base_uri": "https://localhost:8080/",
          "height": 1000
        },
        "id": "o3uXC6mDCpnI",
        "outputId": "c7a4e3d8-19cf-420c-af80-a733b6cf81a9"
      },
      "execution_count": null,
      "outputs": [
        {
          "output_type": "display_data",
          "data": {
            "text/plain": [
              "<Figure size 1200x1000 with 2 Axes>"
            ],
            "image/png": "[encoded data removed]"
          },
          "metadata": {}
        }
      ]
    },
    {
      "cell_type": "code",
      "source": [
        "from imblearn.over_sampling import SVMSMOTE\n",
        "\n",
        "\n",
        "X = df.drop('diagnosis', axis=1)\n",
        "y = df['diagnosis']\n",
        "\n",
        "svm_smote = SVMSMOTE(sampling_strategy='auto', random_state=42)\n",
        "X_resampled, y_resampled = svm_smote.fit_resample(X, y)"
      ],
      "metadata": {
        "id": "Pt-dIzLLC8Mt"
      },
      "execution_count": null,
      "outputs": []
    },
    {
      "cell_type": "code",
      "source": [
        "print(\"X_resampled shape:\", X_resampled.shape)\n",
        "print(\"y_resampled shape:\", y_resampled.shape)"
      ],
      "metadata": {
        "colab": {
          "base_uri": "https://localhost:8080/"
        },
        "id": "8rX2nhS1DQTg",
        "outputId": "885b0803-94f2-45bc-89fe-c365c6ad417b"
      },
      "execution_count": null,
      "outputs": [
        {
          "output_type": "stream",
          "name": "stdout",
          "text": [
            "X_resampled shape: (624, 10)\n",
            "y_resampled shape: (624,)\n"
          ]
        }
      ]
    },
    {
      "cell_type": "code",
      "source": [
        "from sklearn.ensemble import RandomForestClassifier, ExtraTreesClassifier\n",
        "from sklearn.metrics import accuracy_score, classification_report\n",
        "from sklearn.model_selection import train_test_split\n",
        "\n",
        "\n",
        "X_train, X_test, y_train, y_test = train_test_split(X_resampled, y_resampled, test_size=0.2, random_state=42)\n",
        "\n",
        "rf_classifier = RandomForestClassifier(random_state=42)\n",
        "rf_classifier.fit(X_train, y_train)\n",
        "\n",
        "y_pred_rf = rf_classifier.predict(X_test)\n",
        "accuracy_rf = accuracy_score(y_test, y_pred_rf)\n",
        "print(\"Random Forest Accuracy:\", accuracy_rf)\n",
        "print(\"Classification Report for Random Forest:\")\n",
        "print(classification_report(y_test, y_pred_rf))\n"
      ],
      "metadata": {
        "colab": {
          "base_uri": "https://localhost:8080/"
        },
        "id": "EGWQ7Hy0DWIh",
        "outputId": "c08938ec-21da-4d6c-fa45-c9a837e06976"
      },
      "execution_count": null,
      "outputs": [
        {
          "output_type": "stream",
          "name": "stdout",
          "text": [
            "Random Forest Accuracy: 0.792\n",
            "Classification Report for Random Forest:\n",
            "              precision    recall  f1-score   support\n",
            "\n",
            "         1.0       0.79      0.88      0.84        43\n",
            "         2.0       0.86      0.62      0.72        50\n",
            "         3.0       0.73      0.94      0.82        32\n",
            "\n",
            "    accuracy                           0.79       125\n",
            "   macro avg       0.79      0.81      0.79       125\n",
            "weighted avg       0.80      0.79      0.79       125\n",
            "\n"
          ]
        }
      ]
    },
    {
      "cell_type": "markdown",
      "source": [
        "Random sample"
      ],
      "metadata": {
        "id": "HtffAImOFhMT"
      }
    },
    {
      "cell_type": "code",
      "source": [
        "from sklearn.utils import resample\n",
        "\n",
        "df_combined = pd.concat([X, y], axis=1)\n",
        "\n",
        "majority_class = df_combined[df_combined['diagnosis'] == 1]\n",
        "minority_class = df_combined[df_combined['diagnosis'] == 2]\n",
        "\n",
        "minority_class_oversampled = resample(minority_class, replace=True, n_samples=len(majority_class), random_state=42)\n",
        "\n",
        "df_oversampled = pd.concat([majority_class, minority_class_oversampled])\n",
        "\n",
        "\n",
        "X_oversampled = df_oversampled.drop('diagnosis', axis=1)\n",
        "y_oversampled = df_oversampled['diagnosis']"
      ],
      "metadata": {
        "id": "bS9IT3g0DsJz"
      },
      "execution_count": null,
      "outputs": []
    },
    {
      "cell_type": "code",
      "source": [
        "from sklearn.ensemble import RandomForestClassifier, ExtraTreesClassifier\n",
        "from sklearn.metrics import accuracy_score, classification_report\n",
        "from sklearn.model_selection import train_test_split\n",
        "\n",
        "\n",
        "X_train, X_test, y_train, y_test = train_test_split(X_oversampled, y_oversampled, test_size=0.2, random_state=42)\n",
        "\n",
        "rf_classifier = RandomForestClassifier(random_state=42)\n",
        "rf_classifier.fit(X_train, y_train)\n",
        "\n",
        "y_pred_rf = rf_classifier.predict(X_test)\n",
        "accuracy_rf = accuracy_score(y_test, y_pred_rf)\n",
        "print(\"Random Forest Accuracy:\", accuracy_rf)\n",
        "print(\"Classification Report for Random Forest:\")\n",
        "print(classification_report(y_test, y_pred_rf))\n"
      ],
      "metadata": {
        "colab": {
          "base_uri": "https://localhost:8080/"
        },
        "id": "vy-z__pHD6zI",
        "outputId": "19bc0977-a080-443e-a2e3-dbd70bc54f3b"
      },
      "execution_count": null,
      "outputs": [
        {
          "output_type": "stream",
          "name": "stdout",
          "text": [
            "Random Forest Accuracy: 0.8783783783783784\n",
            "Classification Report for Random Forest:\n",
            "              precision    recall  f1-score   support\n",
            "\n",
            "         1.0       0.85      0.92      0.88        37\n",
            "         2.0       0.91      0.84      0.87        37\n",
            "\n",
            "    accuracy                           0.88        74\n",
            "   macro avg       0.88      0.88      0.88        74\n",
            "weighted avg       0.88      0.88      0.88        74\n",
            "\n"
          ]
        }
      ]
    },
    {
      "cell_type": "code",
      "source": [
        "X_train, X_test, y_train, y_test = train_test_split(X_oversampled, y_oversampled, test_size=0.2, random_state=42)\n",
        "\n",
        "et_classifier = ExtraTreesClassifier(random_state=42)\n",
        "et_classifier.fit(X_train, y_train)\n",
        "\n",
        "y_pred_et = et_classifier.predict(X_test)\n",
        "accuracy_et = accuracy_score(y_test, y_pred_et)\n",
        "print(\"\\nExtra Trees Classifier Accuracy:\", accuracy_et)\n",
        "print(\"Classification Report for Extra Trees:\")\n",
        "print(classification_report(y_test, y_pred_et))"
      ],
      "metadata": {
        "colab": {
          "base_uri": "https://localhost:8080/"
        },
        "id": "FddnffztGKgH",
        "outputId": "081611ba-12a7-4874-a730-6be04d60d1fa"
      },
      "execution_count": null,
      "outputs": [
        {
          "output_type": "stream",
          "name": "stdout",
          "text": [
            "\n",
            "Extra Trees Classifier Accuracy: 0.8783783783783784\n",
            "Classification Report for Extra Trees:\n",
            "              precision    recall  f1-score   support\n",
            "\n",
            "         1.0       0.82      0.97      0.89        37\n",
            "         2.0       0.97      0.78      0.87        37\n",
            "\n",
            "    accuracy                           0.88        74\n",
            "   macro avg       0.89      0.88      0.88        74\n",
            "weighted avg       0.89      0.88      0.88        74\n",
            "\n"
          ]
        }
      ]
    },
    {
      "cell_type": "code",
      "source": [
        "!pip install -U imbalanced-learn\n",
        "\n",
        "\n",
        "\n"
      ],
      "metadata": {
        "colab": {
          "base_uri": "https://localhost:8080/",
          "height": 373
        },
        "id": "la0sb3xZENh1",
        "outputId": "61b1e34c-b6dd-4dba-da67-38d23cad3d52"
      },
      "execution_count": null,
      "outputs": [
        {
          "output_type": "stream",
          "name": "stdout",
          "text": [
            "Requirement already satisfied: imbalanced-learn in /usr/local/lib/python3.10/dist-packages (0.10.1)\n",
            "Collecting imbalanced-learn\n",
            "  Downloading imbalanced_learn-0.11.0-py3-none-any.whl (235 kB)\n",
            "\u001b[2K     \u001b[90m━━━━━━━━━━━━━━━━━━━━━━━━━━━━━━━━━━━━━━━━\u001b[0m \u001b[32m235.6/235.6 kB\u001b[0m \u001b[31m2.6 MB/s\u001b[0m eta \u001b[36m0:00:00\u001b[0m\n",
            "\u001b[?25hRequirement already satisfied: numpy>=1.17.3 in /usr/local/lib/python3.10/dist-packages (from imbalanced-learn) (1.23.5)\n",
            "Requirement already satisfied: scipy>=1.5.0 in /usr/local/lib/python3.10/dist-packages (from imbalanced-learn) (1.11.3)\n",
            "Requirement already satisfied: scikit-learn>=1.0.2 in /usr/local/lib/python3.10/dist-packages (from imbalanced-learn) (1.2.2)\n",
            "Requirement already satisfied: joblib>=1.1.1 in /usr/local/lib/python3.10/dist-packages (from imbalanced-learn) (1.3.2)\n",
            "Requirement already satisfied: threadpoolctl>=2.0.0 in /usr/local/lib/python3.10/dist-packages (from imbalanced-learn) (3.2.0)\n",
            "Installing collected packages: imbalanced-learn\n",
            "  Attempting uninstall: imbalanced-learn\n",
            "    Found existing installation: imbalanced-learn 0.10.1\n",
            "    Uninstalling imbalanced-learn-0.10.1:\n",
            "      Successfully uninstalled imbalanced-learn-0.10.1\n",
            "Successfully installed imbalanced-learn-0.11.0\n"
          ]
        },
        {
          "output_type": "display_data",
          "data": {
            "application/vnd.colab-display-data+json": {
              "pip_warning": {
                "packages": [
                  "imblearn"
                ]
              }
            }
          },
          "metadata": {}
        }
      ]
    },
    {
      "cell_type": "markdown",
      "source": [
        "Svmsmoth"
      ],
      "metadata": {
        "id": "FHZZIgGaFjHB"
      }
    },
    {
      "cell_type": "code",
      "source": [
        "from imblearn.over_sampling import SVMSMOTE\n",
        "\n",
        "msmote = SVMSMOTE(sampling_strategy='auto', random_state=42)\n",
        "\n",
        "X_resampled, y_resampled = msmote.fit_resample(X, y)\n",
        "df_resampled = pd.concat([pd.DataFrame(X_resampled, columns=X.columns), pd.Series(y_resampled, name='diagnosis')], axis=1)\n",
        "X_oversampled = df_resampled.drop('diagnosis', axis=1)\n",
        "y_oversampled = df_resampled['diagnosis']"
      ],
      "metadata": {
        "id": "I-TaLZ_uD6sO"
      },
      "execution_count": null,
      "outputs": []
    },
    {
      "cell_type": "code",
      "source": [
        "from sklearn.ensemble import RandomForestClassifier, ExtraTreesClassifier\n",
        "from sklearn.metrics import accuracy_score, classification_report\n",
        "from sklearn.model_selection import train_test_split\n",
        "\n",
        "\n",
        "X_train, X_test, y_train, y_test = train_test_split(X_oversampled, y_oversampled, test_size=0.2, random_state=42)\n",
        "\n",
        "rf_classifier = RandomForestClassifier(random_state=42)\n",
        "rf_classifier.fit(X_train, y_train)\n",
        "\n",
        "y_pred_rf = rf_classifier.predict(X_test)\n",
        "accuracy_rf = accuracy_score(y_test, y_pred_rf)\n",
        "print(\"Random Forest Accuracy:\", accuracy_rf)\n",
        "print(\"Classification Report for Random Forest:\")\n",
        "print(classification_report(y_test, y_pred_rf))"
      ],
      "metadata": {
        "colab": {
          "base_uri": "https://localhost:8080/"
        },
        "id": "1t5NUiJ8FMev",
        "outputId": "c3c2e020-c22c-486c-9921-c394e6579ff6"
      },
      "execution_count": null,
      "outputs": [
        {
          "output_type": "stream",
          "name": "stdout",
          "text": [
            "Random Forest Accuracy: 0.792\n",
            "Classification Report for Random Forest:\n",
            "              precision    recall  f1-score   support\n",
            "\n",
            "         1.0       0.79      0.88      0.84        43\n",
            "         2.0       0.86      0.62      0.72        50\n",
            "         3.0       0.73      0.94      0.82        32\n",
            "\n",
            "    accuracy                           0.79       125\n",
            "   macro avg       0.79      0.81      0.79       125\n",
            "weighted avg       0.80      0.79      0.79       125\n",
            "\n"
          ]
        }
      ]
    },
    {
      "cell_type": "markdown",
      "source": [
        "BorderlineSMOTE"
      ],
      "metadata": {
        "id": "6K5JP4I4GVzK"
      }
    },
    {
      "cell_type": "code",
      "source": [
        "from imblearn.over_sampling import BorderlineSMOTE\n",
        "\n",
        "borderline_smote = BorderlineSMOTE(sampling_strategy='auto', random_state=42)\n",
        "X_resampled, y_resampled = borderline_smote.fit_resample(X, y)\n",
        "df_resampled = pd.concat([pd.DataFrame(X_resampled, columns=X.columns), pd.Series(y_resampled, name='diagnosis')], axis=1)\n",
        "X_oversampled = df_resampled.drop('diagnosis', axis=1)\n",
        "y_oversampled = df_resampled['diagnosis']"
      ],
      "metadata": {
        "id": "pn4wKFzJFk5i"
      },
      "execution_count": null,
      "outputs": []
    },
    {
      "cell_type": "code",
      "source": [
        "from sklearn.ensemble import RandomForestClassifier, ExtraTreesClassifier\n",
        "from sklearn.metrics import accuracy_score, classification_report\n",
        "from sklearn.model_selection import train_test_split\n",
        "\n",
        "\n",
        "X_train, X_test, y_train, y_test = train_test_split(X_oversampled, y_oversampled, test_size=0.2, random_state=42)\n",
        "\n",
        "rf_classifier = RandomForestClassifier(random_state=42)\n",
        "rf_classifier.fit(X_train, y_train)\n",
        "\n",
        "y_pred_rf = rf_classifier.predict(X_test)\n",
        "accuracy_rf = accuracy_score(y_test, y_pred_rf)\n",
        "print(\"Random Forest Accuracy:\", accuracy_rf)\n",
        "print(\"Classification Report for Random Forest:\")\n",
        "print(classification_report(y_test, y_pred_rf))"
      ],
      "metadata": {
        "colab": {
          "base_uri": "https://localhost:8080/"
        },
        "id": "fsSzOioAF4QX",
        "outputId": "26b46ca6-6f61-422c-f17d-3a14159c4ba8"
      },
      "execution_count": null,
      "outputs": [
        {
          "output_type": "stream",
          "name": "stdout",
          "text": [
            "Random Forest Accuracy: 0.792\n",
            "Classification Report for Random Forest:\n",
            "              precision    recall  f1-score   support\n",
            "\n",
            "         1.0       0.83      0.88      0.85        43\n",
            "         2.0       0.84      0.62      0.71        50\n",
            "         3.0       0.71      0.94      0.81        32\n",
            "\n",
            "    accuracy                           0.79       125\n",
            "   macro avg       0.79      0.81      0.79       125\n",
            "weighted avg       0.80      0.79      0.79       125\n",
            "\n"
          ]
        }
      ]
    },
    {
      "cell_type": "code",
      "source": [
        "et_classifier = ExtraTreesClassifier(random_state=42)\n",
        "et_classifier.fit(X_train, y_train)\n",
        "\n",
        "y_pred_et = et_classifier.predict(X_test)\n",
        "accuracy_et = accuracy_score(y_test, y_pred_et)\n",
        "print(\"\\nExtra Trees Classifier Accuracy:\", accuracy_et)\n",
        "print(\"Classification Report for Extra Trees:\")\n",
        "print(classification_report(y_test, y_pred_et))"
      ],
      "metadata": {
        "colab": {
          "base_uri": "https://localhost:8080/"
        },
        "id": "ZLIPtA3uGDBe",
        "outputId": "bd92d562-e88e-4bb7-9f77-2e07e226e08a"
      },
      "execution_count": null,
      "outputs": [
        {
          "output_type": "stream",
          "name": "stdout",
          "text": [
            "\n",
            "Extra Trees Classifier Accuracy: 0.808\n",
            "Classification Report for Extra Trees:\n",
            "              precision    recall  f1-score   support\n",
            "\n",
            "         1.0       0.75      0.98      0.85        43\n",
            "         2.0       0.94      0.60      0.73        50\n",
            "         3.0       0.78      0.91      0.84        32\n",
            "\n",
            "    accuracy                           0.81       125\n",
            "   macro avg       0.82      0.83      0.81       125\n",
            "weighted avg       0.83      0.81      0.80       125\n",
            "\n"
          ]
        }
      ]
    },
    {
      "cell_type": "code",
      "source": [
        "\n",
        "!apt-get -qq install -y imbalanced-learn"
      ],
      "metadata": {
        "colab": {
          "base_uri": "https://localhost:8080/"
        },
        "id": "F4m4csOsHd4-",
        "outputId": "ee5d37c3-b831-4118-8e89-4b04b4cc28e9"
      },
      "execution_count": null,
      "outputs": [
        {
          "output_type": "stream",
          "name": "stdout",
          "text": [
            "E: Unable to locate package imbalanced-learn\n"
          ]
        }
      ]
    },
    {
      "cell_type": "code",
      "source": [
        "from imblearn.under_sampling import NeighbourhoodCleaningRule\n",
        "\n",
        "from sklearn.utils import resample\n",
        "\n",
        "X = df.drop('diagnosis', axis=1)\n",
        "y = df['diagnosis']\n",
        "\n",
        "df_combined = pd.concat([X, y], axis=1)\n",
        "\n",
        "majority_class = df_combined[df_combined['diagnosis'] == 1]\n",
        "minority_class = df_combined[df_combined['diagnosis'] == 2]\n",
        "\n",
        "minority_class_oversampled = resample(minority_class, replace=True, n_samples=len(majority_class), random_state=42)\n",
        "\n",
        "df_oversampled = pd.concat([majority_class, minority_class_oversampled])\n",
        "\n",
        "\n",
        "X_oversampled = df_oversampled.drop('diagnosis', axis=1)\n",
        "y_oversampled = df_oversampled['diagnosis']\n",
        "\n",
        "ncr = NeighbourhoodCleaningRule(sampling_strategy='auto', n_neighbors=3)\n",
        "X_cleaned, y_cleaned = ncr.fit_resample(X_oversampled, y_oversampled )\n",
        "X_train, X_test, y_train, y_test = train_test_split(X_cleaned, y_cleaned, test_size=0.2, random_state=42)\n",
        "\n",
        "y_pred = rf_classifier.predict(X_test)\n",
        "accuracy = accuracy_score(y_test, y_pred)\n",
        "print(\"Accuracy:\", accuracy)\n",
        "print(\"Classification Report:\")\n",
        "print(classification_report(y_test, y_pred))"
      ],
      "metadata": {
        "colab": {
          "base_uri": "https://localhost:8080/"
        },
        "id": "VQhFcak1GYsn",
        "outputId": "ea4a0acf-d36c-448d-918f-9b69cbce2868"
      },
      "execution_count": null,
      "outputs": [
        {
          "output_type": "stream",
          "name": "stdout",
          "text": [
            "Accuracy: 0.953125\n",
            "Classification Report:\n",
            "              precision    recall  f1-score   support\n",
            "\n",
            "         1.0       1.00      0.98      0.99        41\n",
            "         2.0       0.95      0.91      0.93        23\n",
            "         3.0       0.00      0.00      0.00         0\n",
            "\n",
            "    accuracy                           0.95        64\n",
            "   macro avg       0.65      0.63      0.64        64\n",
            "weighted avg       0.98      0.95      0.97        64\n",
            "\n"
          ]
        },
        {
          "output_type": "stream",
          "name": "stderr",
          "text": [
            "/usr/local/lib/python3.10/dist-packages/sklearn/metrics/_classification.py:1344: UndefinedMetricWarning: Recall and F-score are ill-defined and being set to 0.0 in labels with no true samples. Use `zero_division` parameter to control this behavior.\n",
            "  _warn_prf(average, modifier, msg_start, len(result))\n",
            "/usr/local/lib/python3.10/dist-packages/sklearn/metrics/_classification.py:1344: UndefinedMetricWarning: Recall and F-score are ill-defined and being set to 0.0 in labels with no true samples. Use `zero_division` parameter to control this behavior.\n",
            "  _warn_prf(average, modifier, msg_start, len(result))\n",
            "/usr/local/lib/python3.10/dist-packages/sklearn/metrics/_classification.py:1344: UndefinedMetricWarning: Recall and F-score are ill-defined and being set to 0.0 in labels with no true samples. Use `zero_division` parameter to control this behavior.\n",
            "  _warn_prf(average, modifier, msg_start, len(result))\n"
          ]
        }
      ]
    }
  ]
}