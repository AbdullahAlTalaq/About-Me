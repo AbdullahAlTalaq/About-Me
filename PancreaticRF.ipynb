{
  "nbformat": 4,
  "nbformat_minor": 0,
  "metadata": {
    "colab": {
      "provenance": [],
      "authorship_tag": "ABX9TyPtNw6BFFm5YJmHGN+rvoyj",
      "include_colab_link": true
    },
    "kernelspec": {
      "name": "python3",
      "display_name": "Python 3"
    },
    "language_info": {
      "name": "python"
    }
  },
  "cells": [
    {
      "cell_type": "markdown",
      "metadata": {
        "id": "view-in-github",
        "colab_type": "text"
      },
      "source": [
        "<a href=\"https://colab.research.google.com/github/AbdullahAlTalaq/About-Me/blob/main/PancreaticRF.ipynb\" target=\"_parent\"><img src=\"https://colab.research.google.com/assets/colab-badge.svg\" alt=\"Open In Colab\"/></a>"
      ]
    },
    {
      "cell_type": "code",
      "execution_count": null,
      "metadata": {
        "id": "chvSI80H1W4z"
      },
      "outputs": [],
      "source": [
        "import numpy as np\n",
        "import pandas as pd\n",
        "\n",
        "df = pd.read_csv('/content/Pancreatic Cancer (cleaned).csv')"
      ]
    },
    {
      "cell_type": "code",
      "source": [
        "df.info()"
      ],
      "metadata": {
        "colab": {
          "base_uri": "https://localhost:8080/"
        },
        "id": "-vYFs-iT1_bV",
        "outputId": "b0faceae-8451-4516-a2cf-6487e8499286"
      },
      "execution_count": null,
      "outputs": [
        {
          "output_type": "stream",
          "name": "stdout",
          "text": [
            "<class 'pandas.core.frame.DataFrame'>\n",
            "RangeIndex: 590 entries, 0 to 589\n",
            "Data columns (total 14 columns):\n",
            " #   Column                   Non-Null Count  Dtype  \n",
            "---  ------                   --------------  -----  \n",
            " 0   sample_id                590 non-null    object \n",
            " 1   patient_cohort           590 non-null    object \n",
            " 2   sample_origin            590 non-null    object \n",
            " 3   age                      590 non-null    int64  \n",
            " 4   sex                      590 non-null    object \n",
            " 5   diagnosis                590 non-null    int64  \n",
            " 6   stage                    590 non-null    object \n",
            " 7   benign_sample_diagnosis  590 non-null    object \n",
            " 8   plasma_CA19_9            590 non-null    float64\n",
            " 9   creatinine               590 non-null    float64\n",
            " 10  LYVE1                    590 non-null    float64\n",
            " 11  REG1B                    590 non-null    float64\n",
            " 12  TFF1                     590 non-null    float64\n",
            " 13  REG1A                    590 non-null    float64\n",
            "dtypes: float64(6), int64(2), object(6)\n",
            "memory usage: 64.7+ KB\n"
          ]
        }
      ]
    },
    {
      "cell_type": "code",
      "source": [
        "df= df.drop('sample_id',axis = 1)"
      ],
      "metadata": {
        "id": "sfheGWBf2BsR"
      },
      "execution_count": null,
      "outputs": []
    },
    {
      "cell_type": "code",
      "source": [
        "df.info()"
      ],
      "metadata": {
        "colab": {
          "base_uri": "https://localhost:8080/"
        },
        "id": "hOVToazx2Mgr",
        "outputId": "e2c0fa8c-dfa0-4bb4-e916-4f4140fce5d1"
      },
      "execution_count": null,
      "outputs": [
        {
          "output_type": "stream",
          "name": "stdout",
          "text": [
            "<class 'pandas.core.frame.DataFrame'>\n",
            "RangeIndex: 590 entries, 0 to 589\n",
            "Data columns (total 13 columns):\n",
            " #   Column                   Non-Null Count  Dtype  \n",
            "---  ------                   --------------  -----  \n",
            " 0   patient_cohort           590 non-null    object \n",
            " 1   sample_origin            590 non-null    object \n",
            " 2   age                      590 non-null    int64  \n",
            " 3   sex                      590 non-null    object \n",
            " 4   diagnosis                590 non-null    int64  \n",
            " 5   stage                    590 non-null    object \n",
            " 6   benign_sample_diagnosis  590 non-null    object \n",
            " 7   plasma_CA19_9            590 non-null    float64\n",
            " 8   creatinine               590 non-null    float64\n",
            " 9   LYVE1                    590 non-null    float64\n",
            " 10  REG1B                    590 non-null    float64\n",
            " 11  TFF1                     590 non-null    float64\n",
            " 12  REG1A                    590 non-null    float64\n",
            "dtypes: float64(6), int64(2), object(5)\n",
            "memory usage: 60.0+ KB\n"
          ]
        }
      ]
    },
    {
      "cell_type": "markdown",
      "source": [
        "\n",
        "\n",
        "\n",
        "# change the object data to int64\n",
        "\n",
        "\n"
      ],
      "metadata": {
        "id": "NTdFV5E94Ijf"
      }
    },
    {
      "cell_type": "code",
      "source": [
        "from sklearn import preprocessing\n",
        "\n",
        "label_encoder = preprocessing.LabelEncoder()\n",
        "\n",
        "df['patient_cohort']= label_encoder.fit_transform(df['patient_cohort'])\n"
      ],
      "metadata": {
        "id": "cpBn9nQO4fsn"
      },
      "execution_count": null,
      "outputs": []
    },
    {
      "cell_type": "code",
      "source": [
        "df['patient_cohort']=df['patient_cohort'].astype(int)"
      ],
      "metadata": {
        "id": "HncJu64V4sRW"
      },
      "execution_count": null,
      "outputs": []
    },
    {
      "cell_type": "code",
      "source": [
        "df['sample_origin']= label_encoder.fit_transform(df['sample_origin'])\n",
        "df['sample_origin']=df['sample_origin'].astype(int)\n",
        "df['sex']= label_encoder.fit_transform(df['sex'])\n",
        "df['sex']=df['sex'].astype(int)"
      ],
      "metadata": {
        "id": "RuiYvzv940tc"
      },
      "execution_count": null,
      "outputs": []
    },
    {
      "cell_type": "code",
      "source": [
        "df['patient_cohort'].unique()\n",
        "df['sample_origin'].unique()"
      ],
      "metadata": {
        "colab": {
          "base_uri": "https://localhost:8080/"
        },
        "id": "zlIWp7pe4lqD",
        "outputId": "ebd16dc1-b004-43de-a527-959c76d8f8d4"
      },
      "execution_count": null,
      "outputs": [
        {
          "output_type": "execute_result",
          "data": {
            "text/plain": [
              "array([0, 2, 1, 3])"
            ]
          },
          "metadata": {},
          "execution_count": 16
        }
      ]
    },
    {
      "cell_type": "code",
      "source": [
        "df['stage']= label_encoder.fit_transform(df['stage'])\n",
        "df['stage']=df['stage'].astype(int)"
      ],
      "metadata": {
        "id": "JAkn_XfD5DXG"
      },
      "execution_count": null,
      "outputs": []
    },
    {
      "cell_type": "code",
      "source": [
        "df['stage'].unique()"
      ],
      "metadata": {
        "colab": {
          "base_uri": "https://localhost:8080/"
        },
        "id": "ZMuQZLBS5HA3",
        "outputId": "67460ffc-aea6-4ee7-f4cc-694e0f127edd"
      },
      "execution_count": null,
      "outputs": [
        {
          "output_type": "execute_result",
          "data": {
            "text/plain": [
              "array([0, 4, 5, 3, 1, 6, 2])"
            ]
          },
          "metadata": {},
          "execution_count": 18
        }
      ]
    },
    {
      "cell_type": "code",
      "source": [
        "df=df.drop(\"benign_sample_diagnosis\",axis=1)"
      ],
      "metadata": {
        "id": "CHbGPteN5S8w"
      },
      "execution_count": null,
      "outputs": []
    },
    {
      "cell_type": "code",
      "source": [
        "X=df.drop(\"diagnosis\",axis=1)\n",
        "y=df['diagnosis']"
      ],
      "metadata": {
        "id": "8UwujjJs5Twr"
      },
      "execution_count": null,
      "outputs": []
    },
    {
      "cell_type": "markdown",
      "source": [
        "For example, if your original y contains categorical labels like ['A', 'B', 'C'], the fit_transform method will map these labels to numerical values, such as [0, 1, 2]. This is useful when working with machine learning algorithms that require numerical input for the target variable, as it allows you to convert categorical data into a format that the algorithm can understand."
      ],
      "metadata": {
        "id": "WfWiGto67EDF"
      }
    },
    {
      "cell_type": "code",
      "source": [
        "from sklearn import preprocessing\n",
        "\n",
        "\n",
        "label_encoder = preprocessing.LabelEncoder()\n",
        "\n",
        "y= label_encoder.fit_transform(y)"
      ],
      "metadata": {
        "id": "UNsqRp4P5t6P"
      },
      "execution_count": null,
      "outputs": []
    },
    {
      "cell_type": "markdown",
      "source": [
        "#Random Forest"
      ],
      "metadata": {
        "id": "s2Yrt_-j6oFk"
      }
    },
    {
      "cell_type": "code",
      "source": [
        "from sklearn.model_selection import train_test_split\n",
        "X_train, X_test, y_train, y_test = train_test_split(X, y, test_size=0.33, random_state=42)"
      ],
      "metadata": {
        "id": "6QWeK_7v5_qc"
      },
      "execution_count": null,
      "outputs": []
    },
    {
      "cell_type": "code",
      "source": [
        "from sklearn.ensemble import RandomForestClassifier\n",
        "clf = RandomForestClassifier(n_estimators = 100)\n",
        "clf.fit(X_train, y_train)\n",
        "\n",
        "y_pred8 = clf.predict(X_test)\n"
      ],
      "metadata": {
        "id": "a_MI4TV66IS4"
      },
      "execution_count": null,
      "outputs": []
    },
    {
      "cell_type": "code",
      "source": [
        "from sklearn import metrics\n",
        "print( metrics.accuracy_score(y_test, y_pred8)*100)"
      ],
      "metadata": {
        "colab": {
          "base_uri": "https://localhost:8080/"
        },
        "id": "5_gjrVMM6Xzs",
        "outputId": "4ffe35b2-55be-4421-a646-613cb98963f4"
      },
      "execution_count": null,
      "outputs": [
        {
          "output_type": "stream",
          "name": "stdout",
          "text": [
            "82.56410256410255\n"
          ]
        }
      ]
    }
  ]
}