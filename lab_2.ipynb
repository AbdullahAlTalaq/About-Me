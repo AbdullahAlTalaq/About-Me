{
  "cells": [
    {
      "cell_type": "markdown",
      "metadata": {
        "id": "view-in-github",
        "colab_type": "text"
      },
      "source": [
        "<a href=\"https://colab.research.google.com/github/AbdullahAlTalaq/About-Me/blob/main/lab_2.ipynb\" target=\"_parent\"><img src=\"https://colab.research.google.com/assets/colab-badge.svg\" alt=\"Open In Colab\"/></a>"
      ]
    },
    {
      "cell_type": "code",
      "execution_count": null,
      "metadata": {
        "id": "u3ewEJRxSLRB"
      },
      "outputs": [],
      "source": [
        "import nltk"
      ]
    },
    {
      "cell_type": "code",
      "execution_count": null,
      "metadata": {
        "id": "7Xe5A5aCSLRC",
        "outputId": "28fe5eb1-4109-4f25-fa8b-14cbcbb8cebc"
      },
      "outputs": [
        {
          "name": "stderr",
          "output_type": "stream",
          "text": [
            "[nltk_data] Downloading package reuters to C:\\Users\\oo-\n",
            "[nltk_data]     hs\\AppData\\Roaming\\nltk_data...\n",
            "[nltk_data]   Package reuters is already up-to-date!\n",
            "[nltk_data] Downloading package punkt to C:\\Users\\oo-\n",
            "[nltk_data]     hs\\AppData\\Roaming\\nltk_data...\n",
            "[nltk_data]   Package punkt is already up-to-date!\n"
          ]
        },
        {
          "data": {
            "text/plain": [
              "True"
            ]
          },
          "execution_count": 2,
          "metadata": {},
          "output_type": "execute_result"
        }
      ],
      "source": [
        "nltk.download('reuters')\n",
        "nltk.download('punkt')"
      ]
    },
    {
      "cell_type": "code",
      "execution_count": null,
      "metadata": {
        "id": "dpEFKM0uSLRC"
      },
      "outputs": [],
      "source": [
        "from nltk.corpus import reuters\n",
        "from nltk import bigrams\n",
        "from collections import Counter, defaultdict"
      ]
    },
    {
      "cell_type": "code",
      "execution_count": null,
      "metadata": {
        "id": "tfRKO1SQSLRD"
      },
      "outputs": [],
      "source": [
        "model = defaultdict(lambda: defaultdict(lambda: 0))"
      ]
    },
    {
      "cell_type": "code",
      "execution_count": null,
      "metadata": {
        "id": "PqEnDHZYSLRD"
      },
      "outputs": [],
      "source": [
        "for sentence in reuters.sents():\n",
        "  for w1, w2 in bigrams(sentence, pad_right=True, pad_left=True):\n",
        "       model[w1][w2] += 1"
      ]
    },
    {
      "cell_type": "code",
      "execution_count": null,
      "metadata": {
        "id": "87THoiRaSLRD"
      },
      "outputs": [],
      "source": [
        "for w1 in model:\n",
        "   total_count = float(sum(model[w1].values()))\n",
        "   for w2 in model[w1]:\n",
        "         model[w1][w2] /= total_count"
      ]
    },
    {
      "cell_type": "code",
      "execution_count": null,
      "metadata": {
        "id": "ef9gGB9lSLRD",
        "outputId": "71331e4b-d40c-43c8-e1c3-3afc6db797f2"
      },
      "outputs": [
        {
          "name": "stdout",
          "output_type": "stream",
          "text": [
            "{'yesterday': 0.0006013229104028864, 'of': 0.16656644618159952, '.': 0.05772699939867709, ',': 0.04269392663860493, 'for': 0.06734816596512327, 'increase': 0.010222489476849068, 'rise': 0.0036079374624173183, 'it': 0.01984365604329525, 'reduction': 0.0018039687312086591, 'to': 0.03126879134095009, 'was': 0.025255562236921228, 'at': 0.00841852074564041, 'falls': 0.003006614552014432, 'here': 0.0006013229104028864, 'after': 0.0006013229104028864, 'over': 0.0018039687312086591, 'is': 0.025856885147324114, 'might': 0.0012026458208057728, 'supports': 0.004209260372820205, 'rises': 0.014431749849669273, 'inflation': 0.009019843656043296, 'increases': 0.009621166566446182, 'support': 0.00841852074564041, 'will': 0.01803968731208659, 'effect': 0.0006013229104028864, 'stability': 0.009019843656043296, 'takes': 0.0006013229104028864, 'cut': 0.0024052916416115455, 'slump': 0.0012026458208057728, 'in': 0.019242333132892364, 'equivalent': 0.0012026458208057728, 'by': 0.00661455201443175, 'transparency': 0.0006013229104028864, 'equal': 0.003006614552014432, 'decrease': 0.0012026458208057728, 'and': 0.02164762477450391, 'which': 0.0024052916416115455, 'or': 0.0018039687312086591, 'paid': 0.00661455201443175, 'definition': 0.0006013229104028864, ',\"': 0.007817197835237523, 'adopted': 0.0006013229104028864, 'through': 0.0018039687312086591, 'on': 0.006013229104028864, 'subsidies': 0.0018039687312086591, 'details': 0.0018039687312086591, 'index': 0.03367408298256164, 'data': 0.0018039687312086591, 'used': 0.0006013229104028864, 'relief': 0.0006013229104028864, 'climate': 0.0006013229104028864, 'changes': 0.003006614552014432, 'change': 0.0006013229104028864, 'tag': 0.0018039687312086591, ')': 0.0018039687312086591, 'discounts': 0.0018039687312086591, 'before': 0.0018039687312086591, 'information': 0.0006013229104028864, 'linked': 0.0006013229104028864, 'related': 0.0018039687312086591, 'revision': 0.0012026458208057728, 'levels': 0.004209260372820205, 'cuts': 0.004209260372820205, 'reductions': 0.0012026458208057728, 'limits': 0.005411906193625977, 'limit': 0.0012026458208057728, 'other': 0.0006013229104028864, 'now': 0.0006013229104028864, ').': 0.0006013229104028864, 'fluctuations': 0.003006614552014432, 'moved': 0.0012026458208057728, 'package': 0.006013229104028864, 'even': 0.0006013229104028864, 'controls': 0.004810583283223091, 'per': 0.004209260372820205, 'dictate': 0.0006013229104028864, 'would': 0.007817197835237523, 'adjustments': 0.0018039687312086591, 'review': 0.0012026458208057728, 'from': 0.0018039687312086591, 'that': 0.0018039687312086591, 'depended': 0.0006013229104028864, 'competitive': 0.0018039687312086591, 'rose': 0.0012026458208057728, '(': 0.007817197835237523, 'slumped': 0.0006013229104028864, 'intervention': 0.0012026458208057728, 'differentials': 0.010823812387251955, 'should': 0.0006013229104028864, 'hike': 0.004209260372820205, 'move': 0.0006013229104028864, 'higher': 0.0006013229104028864, 'guarantees': 0.0018039687312086591, 'if': 0.0018039687312086591, 'than': 0.0012026458208057728, 'regime': 0.0006013229104028864, 'hawks': 0.0006013229104028864, 'today': 0.0018039687312086591, 'gyrations': 0.0018039687312086591, 'during': 0.0012026458208057728, 'talks': 0.0006013229104028864, 'structure': 0.0036079374624173183, 'evolution': 0.0006013229104028864, 'appreciation': 0.0012026458208057728, 'trends': 0.0018039687312086591, 'basket': 0.0006013229104028864, 'set': 0.0012026458208057728, 'drop': 0.004209260372820205, 'had': 0.0018039687312086591, 'range': 0.0018039687312086591, 'contracts': 0.0006013229104028864, 'fixing': 0.0012026458208057728, 'went': 0.0006013229104028864, 'so': 0.0006013229104028864, 'has': 0.004810583283223091, 'the': 0.004209260372820205, 'gains': 0.0012026458208057728, 'formula': 0.0006013229104028864, 'notice': 0.0006013229104028864, 'notified': 0.0006013229104028864, 'be': 0.0012026458208057728, 'factor': 0.0006013229104028864, '-': 0.00661455201443175, 'round': 0.0006013229104028864, 'Royal': 0.0006013229104028864, 'recovery': 0.0036079374624173183, 'again': 0.0006013229104028864, 'must': 0.0006013229104028864, 'holds': 0.0006013229104028864, 'ideas': 0.0006013229104028864, 'currently': 0.0006013229104028864, '53': 0.0006013229104028864, 'corn': 0.0006013229104028864, 'interior': 0.0006013229104028864, 'system': 0.0018039687312086591, 'as': 0.003006614552014432, 'break': 0.0006013229104028864, 'chips': 0.006013229104028864, 'Japanese': 0.0024052916416115455, 'fall': 0.0024052916416115455, 'declines': 0.003006614552014432, 'unchanged': 0.0006013229104028864, 'compared': 0.0006013229104028864, 'deflator': 0.0018039687312086591, 'fell': 0.0024052916416115455, 'base': 0.0006013229104028864, 'since': 0.0024052916416115455, '\"': 0.005411906193625977, 'above': 0.0024052916416115455, 'collapsed': 0.0006013229104028864, 'ranges': 0.0036079374624173183, 'stabilisation': 0.004209260372820205, 'more': 0.0012026458208057728, 'realism': 0.0006013229104028864, 'values': 0.0006013229104028864, 'reflects': 0.0006013229104028864, 'scenarios': 0.0006013229104028864, 'development': 0.0006013229104028864, 'may': 0.0006013229104028864, 'grain': 0.0012026458208057728, 'not': 0.0006013229104028864, 'exceeds': 0.0006013229104028864, 'arrangements': 0.0006013229104028864, 'proposals': 0.0018039687312086591, 'forecasts': 0.0006013229104028864, 'activity': 0.0006013229104028864, 'while': 0.0006013229104028864, 'collapse': 0.0006013229104028864, 'slide': 0.0012026458208057728, 'level': 0.003006614552014432, '0': 0.0012026458208057728, 'pressure': 0.0018039687312086591, 'computer': 0.0012026458208057728, 'movements': 0.0018039687312086591, 'competition': 0.0006013229104028864, 'were': 0.0006013229104028864, 'weakness': 0.0012026458208057728, 'with': 0.0006013229104028864, '/': 0.0006013229104028864, 'depends': 0.0006013229104028864, 'ratio': 0.0006013229104028864, 'being': 0.0018039687312086591, 'reaching': 0.0006013229104028864, 'stood': 0.0006013229104028864, 'swings': 0.0006013229104028864, 'bias': 0.0006013229104028864, 'rebound': 0.0006013229104028864, 'received': 0.0006013229104028864, 'estimated': 0.0006013229104028864, 'below': 0.0006013229104028864, 'valuing': 0.0006013229104028864, 'outlook': 0.0006013229104028864, 'competitiveness': 0.0018039687312086591, 'problem': 0.0018039687312086591, 'acceptable': 0.0006013229104028864, '...': 0.0006013229104028864, 'drops': 0.0006013229104028864, 'swing': 0.0006013229104028864, 'lower': 0.0006013229104028864, 'environment': 0.0012026458208057728, 'prevailing': 0.0006013229104028864, 'floors': 0.0006013229104028864, 'crash': 0.0006013229104028864, 'guaranteed': 0.0006013229104028864, 'stayed': 0.0012026458208057728, 'up': 0.0006013229104028864, 'deregulation': 0.0006013229104028864, '.\"': 0.0018039687312086591, 'losses': 0.0006013229104028864, 'dispute': 0.0006013229104028864, 'discounting': 0.0006013229104028864, 'pork': 0.0006013229104028864, \"'\": 0.0006013229104028864, 'but': 0.003006614552014432, 'could': 0.0018039687312086591, 'fluctuation': 0.0012026458208057728, 'decline': 0.0006013229104028864, 'freeze': 0.006013229104028864, 'does': 0.0018039687312086591, 'distortions': 0.0006013229104028864, 'agreed': 0.0006013229104028864, 'agreement': 0.0006013229104028864, 'pattern': 0.0006013229104028864, 'charts': 0.0012026458208057728, 'consolidation': 0.0006013229104028864, 'we': 0.0006013229104028864, 'throughout': 0.0006013229104028864, 'shocks': 0.0006013229104028864, 'closed': 0.0006013229104028864, 'adjustment': 0.003006614552014432, 'reviews': 0.0036079374624173183, 'realized': 0.0006013229104028864, 'according': 0.0012026458208057728, 'policy': 0.0006013229104028864, 'jump': 0.0006013229104028864, 'war': 0.0018039687312086591, 'offered': 0.0006013229104028864, 'they': 0.0006013229104028864, 'anyway': 0.0006013229104028864, 'into': 0.0006013229104028864, 'target': 0.0012026458208057728, 'question': 0.0006013229104028864, 'spread': 0.0006013229104028864, 'difference': 0.0012026458208057728, 'impact': 0.0006013229104028864, '),': 0.0006013229104028864, '--': 0.0018039687312086591, 'regulations': 0.0006013229104028864, 'led': 0.0006013229104028864, 'last': 0.0012026458208057728, 'action': 0.0006013229104028864, 'indicator': 0.0006013229104028864, 'settled': 0.0006013229104028864, 'zone': 0.0012026458208057728, 'influences': 0.0006013229104028864, 'he': 0.0006013229104028864, 'ranging': 0.0006013229104028864, 'strength': 0.0006013229104028864, 'premium': 0.0012026458208057728, 'deterioration': 0.0006013229104028864, 'then': 0.0006013229104028864, 'scenerio': 0.0006013229104028864, 'renewed': 0.0006013229104028864, 'scenario': 0.0006013229104028864, 'trigger': 0.0006013229104028864, 'somewhere': 0.0012026458208057728, 'reaction': 0.0006013229104028864, 'every': 0.0006013229104028864, '(\"': 0.0006013229104028864, 'pressures': 0.0006013229104028864, 'raise': 0.0006013229104028864, 'consisted': 0.0006013229104028864, 'margins': 0.0006013229104028864, 'gap': 0.0006013229104028864, 'remains': 0.0006013229104028864, 'averages': 0.0006013229104028864, 'report': 0.0006013229104028864, 'rising': 0.0006013229104028864, 'projected': 0.0006013229104028864, 'Wendy': 0.0006013229104028864, 'movement': 0.0006013229104028864, 'approached': 0.0006013229104028864, 'saved': 0.0006013229104028864, 'down': 0.0006013229104028864, 'responsive': 0.0012026458208057728, 'contemplated': 0.0006013229104028864, 'difficulties': 0.0012026458208057728, 'allowed': 0.0006013229104028864, 'crisis': 0.0012026458208057728, 'instability': 0.0006013229104028864, 'includes': 0.0006013229104028864, 'also': 0.0006013229104028864, 'plunge': 0.0006013229104028864, 'indexes': 0.0012026458208057728, 'however': 0.0006013229104028864, 'this': 0.0006013229104028864, 'totalled': 0.0006013229104028864}\n"
          ]
        }
      ],
      "source": [
        "print(dict(model['price']))\n",
        "\n"
      ]
    },
    {
      "cell_type": "code",
      "execution_count": null,
      "metadata": {
        "id": "sIolFPLwSLRD",
        "outputId": "698e81c6-d00e-4cac-c948-47f9727385d1"
      },
      "outputs": [
        {
          "name": "stdout",
          "output_type": "stream",
          "text": [
            "today at home heating oil from eight European Community agricultural trade subcommittee hearing Kaiser Cement is not support legislation would have said .\n"
          ]
        }
      ],
      "source": [
        "import random\n",
        "text = [\"today\"]\n",
        "sentence_finished = False\n",
        "while not sentence_finished:\n",
        "    r = random.random()\n",
        "    accumulator = .0\n",
        "    for word in model[text[-1]].keys():\n",
        "        accumulator += model[text[-1]][word]\n",
        "        if accumulator >= r:\n",
        "            text.append(word)\n",
        "            break\n",
        "    if text[-1] is None:\n",
        "        sentence_finished = True\n",
        "generated_text = ' '.join([t for t in text if t])\n",
        "print( generated_text)"
      ]
    }
  ],
  "metadata": {
    "kernelspec": {
      "display_name": "Python 3",
      "language": "python",
      "name": "python3"
    },
    "language_info": {
      "codemirror_mode": {
        "name": "ipython",
        "version": 3
      },
      "file_extension": ".py",
      "mimetype": "text/x-python",
      "name": "python",
      "nbconvert_exporter": "python",
      "pygments_lexer": "ipython3",
      "version": "3.10.7"
    },
    "orig_nbformat": 4,
    "colab": {
      "provenance": [],
      "include_colab_link": true
    }
  },
  "nbformat": 4,
  "nbformat_minor": 0
}